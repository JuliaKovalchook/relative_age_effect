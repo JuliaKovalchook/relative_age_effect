{
 "cells": [
  {
   "cell_type": "code",
   "execution_count": 6,
   "id": "3e0b847a",
   "metadata": {},
   "outputs": [],
   "source": [
    "import time\n",
    "import datetime\n",
    "import pandas as pd\n",
    "\n",
    "from urllib.request import urlopen\n",
    "from bs4 import BeautifulSoup\n",
    "\n",
    "from os.path import exists"
   ]
  },
  {
   "cell_type": "code",
   "execution_count": 7,
   "id": "a940c7cd",
   "metadata": {},
   "outputs": [
    {
     "name": "stdout",
     "output_type": "stream",
     "text": [
      "File exists and have 16 elements with articles and 18 elements in total\n",
      "\n",
      "Running time: 0:00:00\n"
     ]
    }
   ],
   "source": [
    "'''\n",
    "Сreate a set of links that we already have and which we will not parse\n",
    "'''\n",
    "start_time = time.time() #fix the time to determine the running time of the code\n",
    "\n",
    "\n",
    "def open_pages(file_name):\n",
    "    file_exists = exists(file_name)\n",
    "    if file_exists==True:\n",
    "        done_list=pd.read_csv(file_name, index_col=0)   #open the file with passed links \n",
    "        #Don't add Category pages. It is better to go through the extra pages of the category than not to get all the links from it\n",
    "        done_article=done_list[done_list['Category/Article']==\"Стаття\"]\n",
    "        pages = {item[24:] for item in set(done_article['Link'])} #get a link in the desired format and add to a set \n",
    "        print('File exists and have %s elements with articles and %s elements in total' % (len(pages),  len(done_list)) ) \n",
    "    else:\n",
    "        pages=set()\n",
    "        print('File not exists')\n",
    "    return pages\n",
    "\n",
    " \n",
    "\n",
    "\n",
    "file_name='sportsperson.csv'\n",
    "open_pages(file_name)\n",
    "\n",
    "           \n",
    "time_second=time.time() - start_time\n",
    "print(\"\\nRunning time: %s\" % str(datetime.timedelta(seconds=time_second)).split(\".\")[0]) #split for not show milisecond"
   ]
  },
  {
   "cell_type": "code",
   "execution_count": 8,
   "id": "5f7f32ff",
   "metadata": {},
   "outputs": [
    {
     "data": {
      "text/plain": [
       "'\\n#Delete file\\n\\nfile_path = \"/Users/yuliakovalchuk/Desktop/GIT/relative_age_effect/\"+ file_name\\nif os.path.isfile(file_path):\\n    os.remove(file_path)\\n    print(f\"{file_name} deleted\")\\n'"
      ]
     },
     "execution_count": 8,
     "metadata": {},
     "output_type": "execute_result"
    }
   ],
   "source": [
    "'''\n",
    "#Delete file\n",
    "\n",
    "file_path = \"/Users/yuliakovalchuk/Desktop/GIT/relative_age_effect/\"+ file_name\n",
    "if os.path.isfile(file_path):\n",
    "    os.remove(file_path)\n",
    "    print(f\"{file_name} deleted\")\n",
    "'''"
   ]
  },
  {
   "cell_type": "code",
   "execution_count": 9,
   "id": "3e8bad9e",
   "metadata": {},
   "outputs": [
    {
     "name": "stdout",
     "output_type": "stream",
     "text": [
      "File exists and have 16 elements with articles and 18 elements in total\n",
      "\n",
      "We are here (name):  Категорія:Українські регбісти\n",
      "\n",
      "We are here (name):  Категорія:Гравці збірної України з регбі\n",
      "\n",
      "New link already is in pages \n",
      "\n",
      "New link already is in pages \n",
      "\n",
      "New link already is in pages \n",
      "\n",
      "New link already is in pages \n",
      "\n",
      "New link already is in pages \n",
      "\n",
      "New link already is in pages \n",
      "\n",
      "New link already is in pages \n",
      "\n",
      "New link already is in pages \n",
      "\n",
      "New link already is in pages \n",
      "\n",
      "New link already is in pages \n",
      "\n",
      "New link already is in pages \n",
      "\n",
      "New link already is in pages \n",
      "\n",
      "New link already is in pages \n",
      "\n",
      "New link already is in pages \n",
      "\n",
      "New link already is in pages \n",
      "\n",
      "New link already is in pages \n",
      "\n",
      "New link already is in pages \n",
      "\n",
      "New link already is in pages \n",
      "\n",
      "New link already is in pages \n",
      "\n",
      "New link already is in pages \n",
      "\n",
      "New link already is in pages \n",
      "\n",
      "New link already is in pages \n",
      "\n",
      "New link already is in pages \n",
      "\n",
      "New link already is in pages \n",
      "\n",
      "New link already is in pages \n",
      "\n",
      "New link already is in pages \n",
      "\n",
      "New link already is in pages \n",
      "\n",
      "New link already is in pages \n",
      "Running time: 0:00:00\n"
     ]
    }
   ],
   "source": [
    "'''\n",
    "Create recursion\n",
    "'''\n",
    "\n",
    "start_time = time.time() #fix the time to determine the running time of the code\n",
    "wiki_text='https://uk.wikipedia.org'\n",
    "\n",
    "\n",
    "#спортсмени за видами спорту\n",
    "#link='/wiki/%D0%9A%D0%B0%D1%82%D0%B5%D0%B3%D0%BE%D1%80%D1%96%D1%8F:%D0%A3%D0%BA%D1%80%D0%B0%D1%97%D0%BD%D1%81%D1%8C%D0%BA%D1%96_%D1%81%D0%BF%D0%BE%D1%80%D1%82%D1%81%D0%BC%D0%B5%D0%BD%D0%B8_%D0%B7%D0%B0_%D0%B2%D0%B8%D0%B4%D0%BE%D0%BC_%D1%81%D0%BF%D0%BE%D1%80%D1%82%D1%83'\n",
    "#TEST link Українські_регбісти\n",
    "link='/wiki/%D0%9A%D0%B0%D1%82%D0%B5%D0%B3%D0%BE%D1%80%D1%96%D1%8F:%D0%A3%D0%BA%D1%80%D0%B0%D1%97%D0%BD%D1%81%D1%8C%D0%BA%D1%96_%D1%80%D0%B5%D0%B3%D0%B1%D1%96%D1%81%D1%82%D0%B8'\n",
    "\n",
    "level=0\n",
    "level_list=[]\n",
    "link_list=[]\n",
    "list_persons=[]\n",
    "index=0\n",
    "pages=open_pages(file_name)\n",
    "\n",
    "\n",
    "def recursion_link(link):\n",
    "    \n",
    "    html=wiki_text+link\n",
    "    html_open = urlopen(html)\n",
    "    bs1 = BeautifulSoup(html_open, 'html.parser')\n",
    "    \n",
    "    full_name= bs1.find('h1', {'class': 'firstHeading mw-first-heading'}).text\n",
    "    category = bs1.find('div', {'id': 'left-navigation'}).find('div', {'class': 'vector-menu-content'}).find('span').text       #is it  Category or Article\n",
    "    print('\\nWe are here', '(name): ', full_name) \n",
    "        \n",
    "    list_persons.append({'Full name': full_name, 'Link': html, \n",
    "                         'Category/Article': category \n",
    "                        })\n",
    "\n",
    "    #print('\\nFull name', full_name)\n",
    "    \n",
    "    try: #find new link \n",
    "        all_links = bs1.find('div', {'id': 'bodyContent'}).find('div', {'class': 'mw-category-generated'}).find_all('a')   \n",
    "        for link_herf in all_links:\n",
    "            link_new=link_herf['href']\n",
    "            if link_new not in pages: # look only we haven't been in link yet\n",
    "                pages.add(link_new) #add element to pages\n",
    "                recursion_link(link_new)\n",
    "            else:\n",
    "                print('\\nNew link already is in pages ')\n",
    "\n",
    "                #even if we don't recursively call the function we have to change the level index\n",
    "                \n",
    "\n",
    "                \n",
    "            \n",
    "\n",
    "    except AttributeError: #new link not find\n",
    "        pass\n",
    "    \n",
    "    \n",
    "    \n",
    "    \n",
    "    \n",
    "    return list_persons   \n",
    "\n",
    "\n",
    "recursion_link(link)\n",
    "\n",
    "time_second=time.time() - start_time\n",
    "print(\"Running time: %s\" % str(datetime.timedelta(seconds=time_second)).split(\".\")[0]) #split for not show milisecond"
   ]
  },
  {
   "cell_type": "code",
   "execution_count": 10,
   "id": "8a6c4d3c",
   "metadata": {},
   "outputs": [
    {
     "name": "stdout",
     "output_type": "stream",
     "text": [
      "Running time prev code: 0:00:00\n",
      "Total rows: 2\n"
     ]
    },
    {
     "data": {
      "text/html": [
       "<div>\n",
       "<style scoped>\n",
       "    .dataframe tbody tr th:only-of-type {\n",
       "        vertical-align: middle;\n",
       "    }\n",
       "\n",
       "    .dataframe tbody tr th {\n",
       "        vertical-align: top;\n",
       "    }\n",
       "\n",
       "    .dataframe thead th {\n",
       "        text-align: right;\n",
       "    }\n",
       "</style>\n",
       "<table border=\"1\" class=\"dataframe\">\n",
       "  <thead>\n",
       "    <tr style=\"text-align: right;\">\n",
       "      <th></th>\n",
       "      <th>Full name</th>\n",
       "      <th>Link</th>\n",
       "      <th>Category/Article</th>\n",
       "    </tr>\n",
       "  </thead>\n",
       "  <tbody>\n",
       "    <tr>\n",
       "      <th>0</th>\n",
       "      <td>Категорія:Українські регбісти</td>\n",
       "      <td>https://uk.wikipedia.org/wiki/%D0%9A%D0%B0%D1%...</td>\n",
       "      <td>Категорія</td>\n",
       "    </tr>\n",
       "    <tr>\n",
       "      <th>1</th>\n",
       "      <td>Категорія:Гравці збірної України з регбі</td>\n",
       "      <td>https://uk.wikipedia.org/wiki/%D0%9A%D0%B0%D1%...</td>\n",
       "      <td>Категорія</td>\n",
       "    </tr>\n",
       "  </tbody>\n",
       "</table>\n",
       "</div>"
      ],
      "text/plain": [
       "                                  Full name  \\\n",
       "0             Категорія:Українські регбісти   \n",
       "1  Категорія:Гравці збірної України з регбі   \n",
       "\n",
       "                                                Link Category/Article  \n",
       "0  https://uk.wikipedia.org/wiki/%D0%9A%D0%B0%D1%...        Категорія  \n",
       "1  https://uk.wikipedia.org/wiki/%D0%9A%D0%B0%D1%...        Категорія  "
      ]
     },
     "execution_count": 10,
     "metadata": {},
     "output_type": "execute_result"
    }
   ],
   "source": [
    "time_second=time.time() - start_time\n",
    "print(\"Running time prev code: %s\" % str(datetime.timedelta(seconds=time_second)).split(\".\")[0]) #split for not show milisecond\n",
    "\n",
    "df_link=pd.DataFrame(list_persons)\n",
    "print('Total rows:', len(df_link))\n",
    "\n",
    "df_link"
   ]
  },
  {
   "cell_type": "code",
   "execution_count": 11,
   "id": "0fd69442",
   "metadata": {},
   "outputs": [
    {
     "data": {
      "text/plain": [
       "['Категорія:Українські регбісти',\n",
       " 'https://uk.wikipedia.org/wiki/%D0%9A%D0%B0%D1%82%D0%B5%D0%B3%D0%BE%D1%80%D1%96%D1%8F:%D0%A3%D0%BA%D1%80%D0%B0%D1%97%D0%BD%D1%81%D1%8C%D0%BA%D1%96_%D1%80%D0%B5%D0%B3%D0%B1%D1%96%D1%81%D1%82%D0%B8',\n",
       " 'Категорія']"
      ]
     },
     "execution_count": 11,
     "metadata": {},
     "output_type": "execute_result"
    }
   ],
   "source": [
    "df_link.iloc[-2].tolist()"
   ]
  },
  {
   "cell_type": "code",
   "execution_count": 12,
   "id": "fd94a541",
   "metadata": {},
   "outputs": [
    {
     "name": "stdout",
     "output_type": "stream",
     "text": [
      "Added data\n",
      "Running time: 0:00:00\n"
     ]
    }
   ],
   "source": [
    "start_time = time.time() #fix the time to determine the running time of the code\n",
    "\n",
    "\n",
    "#df_link.to_csv(file_name,  header=True) #rewrite\n",
    "\n",
    "file_exists = exists(file_name)\n",
    "hdr = not file_exists #if file_exists=False  then show header hdr=True\n",
    "df_link.to_csv(file_name, mode='a', header=hdr) #append\n",
    "print('Added data')\n",
    "\n",
    "time_second=time.time() - start_time\n",
    "print(\"Running time: %s\" % str(datetime.timedelta(seconds=time_second)).split(\".\")[0]) #split for not show milisecond"
   ]
  },
  {
   "cell_type": "code",
   "execution_count": null,
   "id": "d85932ef",
   "metadata": {},
   "outputs": [],
   "source": []
  },
  {
   "cell_type": "code",
   "execution_count": null,
   "id": "39b2cbf7",
   "metadata": {},
   "outputs": [],
   "source": []
  },
  {
   "cell_type": "code",
   "execution_count": null,
   "id": "f7ad1bc0",
   "metadata": {},
   "outputs": [],
   "source": []
  }
 ],
 "metadata": {
  "kernelspec": {
   "display_name": "Python 3 (ipykernel)",
   "language": "python",
   "name": "python3"
  },
  "language_info": {
   "codemirror_mode": {
    "name": "ipython",
    "version": 3
   },
   "file_extension": ".py",
   "mimetype": "text/x-python",
   "name": "python",
   "nbconvert_exporter": "python",
   "pygments_lexer": "ipython3",
   "version": "3.10.9"
  }
 },
 "nbformat": 4,
 "nbformat_minor": 5
}
