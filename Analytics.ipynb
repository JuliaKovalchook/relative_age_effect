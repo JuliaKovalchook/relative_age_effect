{
 "cells": [
  {
   "cell_type": "code",
   "execution_count": 2,
   "id": "4a9bb6dd",
   "metadata": {},
   "outputs": [],
   "source": [
    "import pandas as pd\n",
    "import numpy as np"
   ]
  },
  {
   "cell_type": "markdown",
   "id": "41cf441b",
   "metadata": {},
   "source": [
    "### Open file"
   ]
  },
  {
   "cell_type": "code",
   "execution_count": 17,
   "id": "37d9d341",
   "metadata": {},
   "outputs": [
    {
     "data": {
      "text/html": [
       "<div>\n",
       "<style scoped>\n",
       "    .dataframe tbody tr th:only-of-type {\n",
       "        vertical-align: middle;\n",
       "    }\n",
       "\n",
       "    .dataframe tbody tr th {\n",
       "        vertical-align: top;\n",
       "    }\n",
       "\n",
       "    .dataframe thead th {\n",
       "        text-align: right;\n",
       "    }\n",
       "</style>\n",
       "<table border=\"1\" class=\"dataframe\">\n",
       "  <thead>\n",
       "    <tr style=\"text-align: right;\">\n",
       "      <th></th>\n",
       "      <th>Full name</th>\n",
       "      <th>Link</th>\n",
       "      <th>Year</th>\n",
       "      <th>Month</th>\n",
       "      <th>short month</th>\n",
       "      <th>month_number</th>\n",
       "      <th>period</th>\n",
       "    </tr>\n",
       "  </thead>\n",
       "  <tbody>\n",
       "    <tr>\n",
       "      <th>0</th>\n",
       "      <td>Яровий Дмитро Вікторович</td>\n",
       "      <td>https://uk.wikipedia.org/wiki/%D0%AF%D1%80%D0%...</td>\n",
       "      <td>1977</td>\n",
       "      <td>27 травня</td>\n",
       "      <td>травня</td>\n",
       "      <td>5</td>\n",
       "      <td>2 spring</td>\n",
       "    </tr>\n",
       "    <tr>\n",
       "      <th>1</th>\n",
       "      <td>Швець Борис Олександрович</td>\n",
       "      <td>https://uk.wikipedia.org/wiki/%D0%A8%D0%B2%D0%...</td>\n",
       "      <td>1991</td>\n",
       "      <td>20 серпня</td>\n",
       "      <td>серпня</td>\n",
       "      <td>8</td>\n",
       "      <td>3 summer</td>\n",
       "    </tr>\n",
       "    <tr>\n",
       "      <th>2</th>\n",
       "      <td>Чуніховська Ірина Володимирівна</td>\n",
       "      <td>https://uk.wikipedia.org/wiki/%D0%A7%D1%83%D0%...</td>\n",
       "      <td>1967</td>\n",
       "      <td>16 липня</td>\n",
       "      <td>липня</td>\n",
       "      <td>7</td>\n",
       "      <td>3 summer</td>\n",
       "    </tr>\n",
       "    <tr>\n",
       "      <th>3</th>\n",
       "      <td>Челомбітько Євген</td>\n",
       "      <td>https://uk.wikipedia.org/wiki/%D0%A7%D0%B5%D0%...</td>\n",
       "      <td>1965</td>\n",
       "      <td>22 листопада</td>\n",
       "      <td>листопада</td>\n",
       "      <td>11</td>\n",
       "      <td>4 autumn</td>\n",
       "    </tr>\n",
       "    <tr>\n",
       "      <th>4</th>\n",
       "      <td>Хайндрава Сергій</td>\n",
       "      <td>https://uk.wikipedia.org/wiki/%D0%A5%D0%B0%D0%...</td>\n",
       "      <td>1961</td>\n",
       "      <td>10 жовтня</td>\n",
       "      <td>жовтня</td>\n",
       "      <td>10</td>\n",
       "      <td>4 autumn</td>\n",
       "    </tr>\n",
       "    <tr>\n",
       "      <th>...</th>\n",
       "      <td>...</td>\n",
       "      <td>...</td>\n",
       "      <td>...</td>\n",
       "      <td>...</td>\n",
       "      <td>...</td>\n",
       "      <td>...</td>\n",
       "      <td>...</td>\n",
       "    </tr>\n",
       "    <tr>\n",
       "      <th>8815</th>\n",
       "      <td>Болдирєв Даниїл Владиславович</td>\n",
       "      <td>https://uk.wikipedia.org/wiki/%D0%91%D0%BE%D0%...</td>\n",
       "      <td>1992</td>\n",
       "      <td>15 травня</td>\n",
       "      <td>травня</td>\n",
       "      <td>5</td>\n",
       "      <td>2 spring</td>\n",
       "    </tr>\n",
       "    <tr>\n",
       "      <th>8816</th>\n",
       "      <td>Боков Олексій Сергійович</td>\n",
       "      <td>https://uk.wikipedia.org/wiki/%D0%91%D0%BE%D0%...</td>\n",
       "      <td>1957</td>\n",
       "      <td>30 березня</td>\n",
       "      <td>березня</td>\n",
       "      <td>3</td>\n",
       "      <td>2 spring</td>\n",
       "    </tr>\n",
       "    <tr>\n",
       "      <th>8818</th>\n",
       "      <td>Ковальов Сергій Вікторович (альпініст)</td>\n",
       "      <td>https://uk.wikipedia.org/wiki/%D0%9A%D0%BE%D0%...</td>\n",
       "      <td>1966</td>\n",
       "      <td>13 серпня</td>\n",
       "      <td>серпня</td>\n",
       "      <td>8</td>\n",
       "      <td>3 summer</td>\n",
       "    </tr>\n",
       "    <tr>\n",
       "      <th>8819</th>\n",
       "      <td>Антонов Віталій Борисович</td>\n",
       "      <td>https://uk.wikipedia.org/wiki/%D0%90%D0%BD%D1%...</td>\n",
       "      <td>1962</td>\n",
       "      <td>12 грудня</td>\n",
       "      <td>грудня</td>\n",
       "      <td>12</td>\n",
       "      <td>1 winter</td>\n",
       "    </tr>\n",
       "    <tr>\n",
       "      <th>8820</th>\n",
       "      <td>Балабанов Микита Володимирович</td>\n",
       "      <td>https://uk.wikipedia.org/wiki/%D0%91%D0%B0%D0%...</td>\n",
       "      <td>1989</td>\n",
       "      <td>11 вересня</td>\n",
       "      <td>вересня</td>\n",
       "      <td>9</td>\n",
       "      <td>4 autumn</td>\n",
       "    </tr>\n",
       "  </tbody>\n",
       "</table>\n",
       "<p>8363 rows × 7 columns</p>\n",
       "</div>"
      ],
      "text/plain": [
       "                                   Full name  \\\n",
       "0                   Яровий Дмитро Вікторович   \n",
       "1                  Швець Борис Олександрович   \n",
       "2            Чуніховська Ірина Володимирівна   \n",
       "3                          Челомбітько Євген   \n",
       "4                           Хайндрава Сергій   \n",
       "...                                      ...   \n",
       "8815           Болдирєв Даниїл Владиславович   \n",
       "8816                Боков Олексій Сергійович   \n",
       "8818  Ковальов Сергій Вікторович (альпініст)   \n",
       "8819               Антонов Віталій Борисович   \n",
       "8820          Балабанов Микита Володимирович   \n",
       "\n",
       "                                                   Link  Year         Month  \\\n",
       "0     https://uk.wikipedia.org/wiki/%D0%AF%D1%80%D0%...  1977     27 травня   \n",
       "1     https://uk.wikipedia.org/wiki/%D0%A8%D0%B2%D0%...  1991     20 серпня   \n",
       "2     https://uk.wikipedia.org/wiki/%D0%A7%D1%83%D0%...  1967      16 липня   \n",
       "3     https://uk.wikipedia.org/wiki/%D0%A7%D0%B5%D0%...  1965  22 листопада   \n",
       "4     https://uk.wikipedia.org/wiki/%D0%A5%D0%B0%D0%...  1961     10 жовтня   \n",
       "...                                                 ...   ...           ...   \n",
       "8815  https://uk.wikipedia.org/wiki/%D0%91%D0%BE%D0%...  1992     15 травня   \n",
       "8816  https://uk.wikipedia.org/wiki/%D0%91%D0%BE%D0%...  1957    30 березня   \n",
       "8818  https://uk.wikipedia.org/wiki/%D0%9A%D0%BE%D0%...  1966     13 серпня   \n",
       "8819  https://uk.wikipedia.org/wiki/%D0%90%D0%BD%D1%...  1962     12 грудня   \n",
       "8820  https://uk.wikipedia.org/wiki/%D0%91%D0%B0%D0%...  1989    11 вересня   \n",
       "\n",
       "     short month  month_number    period  \n",
       "0         травня             5  2 spring  \n",
       "1         серпня             8  3 summer  \n",
       "2          липня             7  3 summer  \n",
       "3      листопада            11  4 autumn  \n",
       "4         жовтня            10  4 autumn  \n",
       "...          ...           ...       ...  \n",
       "8815      травня             5  2 spring  \n",
       "8816     березня             3  2 spring  \n",
       "8818      серпня             8  3 summer  \n",
       "8819      грудня            12  1 winter  \n",
       "8820     вересня             9  4 autumn  \n",
       "\n",
       "[8363 rows x 7 columns]"
      ]
     },
     "execution_count": 17,
     "metadata": {},
     "output_type": "execute_result"
    }
   ],
   "source": [
    "df_person_info=pd.read_csv('Perosn_period.csv', index_col=0)\n",
    "df_person_info"
   ]
  },
  {
   "cell_type": "code",
   "execution_count": 20,
   "id": "4b69254d",
   "metadata": {},
   "outputs": [
    {
     "data": {
      "text/plain": [
       "<Axes: xlabel='month_number'>"
      ]
     },
     "execution_count": 20,
     "metadata": {},
     "output_type": "execute_result"
    },
    {
     "data": {
      "image/png": "[encoded data removed]",
      "text/plain": [
       "<Figure size 640x480 with 1 Axes>"
      ]
     },
     "metadata": {},
     "output_type": "display_data"
    }
   ],
   "source": [
    "group_month = df_person_info.groupby([ 'month_number'])['Link'].count()#.reset_index()\n",
    "group_month.plot.bar()\n"
   ]
  },
  {
   "cell_type": "code",
   "execution_count": 19,
   "id": "c7fe90ea",
   "metadata": {},
   "outputs": [
    {
     "data": {
      "image/png": "[encoded data removed]",
      "text/plain": [
       "<Figure size 640x480 with 2 Axes>"
      ]
     },
     "metadata": {},
     "output_type": "display_data"
    }
   ],
   "source": [
    "import seaborn as sns\n",
    "df_for_pivot = df_person_info.groupby(['Year', 'month_number'])['Link'].count().reset_index()\n",
    "df_pivot=df_for_pivot.pivot(index=\"Year\", columns=\"month_number\", values=\"Link\")\n",
    "ax = sns.heatmap(df_pivot)\n",
    "ax.set(xlabel=\"\", ylabel=\"\")\n",
    "ax.xaxis.tick_top()"
   ]
  },
  {
   "cell_type": "code",
   "execution_count": 7,
   "id": "a30d6287",
   "metadata": {},
   "outputs": [
    {
     "data": {
      "text/plain": [
       "<Axes: xlabel='month_short'>"
      ]
     },
     "execution_count": 7,
     "metadata": {},
     "output_type": "execute_result"
    },
    {
     "data": {
      "image/png": "[encoded data removed]",
      "text/plain": [
       "<Figure size 640x480 with 1 Axes>"
      ]
     },
     "metadata": {},
     "output_type": "display_data"
    }
   ],
   "source": [
    "df_coef_month=pd.read_csv('coefficient month.csv', index_col=0)\n",
    "df_coef_month.plot.bar()"
   ]
  },
  {
   "cell_type": "markdown",
   "id": "e873d06a",
   "metadata": {},
   "source": [
    "### Total number Perosn "
   ]
  },
  {
   "cell_type": "code",
   "execution_count": 21,
   "id": "e38e7e4d",
   "metadata": {},
   "outputs": [
    {
     "data": {
      "text/html": [
       "<div>\n",
       "<style scoped>\n",
       "    .dataframe tbody tr th:only-of-type {\n",
       "        vertical-align: middle;\n",
       "    }\n",
       "\n",
       "    .dataframe tbody tr th {\n",
       "        vertical-align: top;\n",
       "    }\n",
       "\n",
       "    .dataframe thead th {\n",
       "        text-align: right;\n",
       "    }\n",
       "</style>\n",
       "<table border=\"1\" class=\"dataframe\">\n",
       "  <thead>\n",
       "    <tr style=\"text-align: right;\">\n",
       "      <th></th>\n",
       "      <th>month_number</th>\n",
       "      <th>count</th>\n",
       "    </tr>\n",
       "  </thead>\n",
       "  <tbody>\n",
       "    <tr>\n",
       "      <th>0</th>\n",
       "      <td>1</td>\n",
       "      <td>989</td>\n",
       "    </tr>\n",
       "    <tr>\n",
       "      <th>1</th>\n",
       "      <td>2</td>\n",
       "      <td>768</td>\n",
       "    </tr>\n",
       "    <tr>\n",
       "      <th>2</th>\n",
       "      <td>3</td>\n",
       "      <td>824</td>\n",
       "    </tr>\n",
       "    <tr>\n",
       "      <th>3</th>\n",
       "      <td>4</td>\n",
       "      <td>707</td>\n",
       "    </tr>\n",
       "    <tr>\n",
       "      <th>4</th>\n",
       "      <td>5</td>\n",
       "      <td>735</td>\n",
       "    </tr>\n",
       "    <tr>\n",
       "      <th>5</th>\n",
       "      <td>6</td>\n",
       "      <td>693</td>\n",
       "    </tr>\n",
       "    <tr>\n",
       "      <th>6</th>\n",
       "      <td>7</td>\n",
       "      <td>647</td>\n",
       "    </tr>\n",
       "    <tr>\n",
       "      <th>7</th>\n",
       "      <td>8</td>\n",
       "      <td>710</td>\n",
       "    </tr>\n",
       "    <tr>\n",
       "      <th>8</th>\n",
       "      <td>9</td>\n",
       "      <td>638</td>\n",
       "    </tr>\n",
       "    <tr>\n",
       "      <th>9</th>\n",
       "      <td>10</td>\n",
       "      <td>602</td>\n",
       "    </tr>\n",
       "    <tr>\n",
       "      <th>10</th>\n",
       "      <td>11</td>\n",
       "      <td>560</td>\n",
       "    </tr>\n",
       "    <tr>\n",
       "      <th>11</th>\n",
       "      <td>12</td>\n",
       "      <td>490</td>\n",
       "    </tr>\n",
       "  </tbody>\n",
       "</table>\n",
       "</div>"
      ],
      "text/plain": [
       "    month_number  count\n",
       "0              1    989\n",
       "1              2    768\n",
       "2              3    824\n",
       "3              4    707\n",
       "4              5    735\n",
       "5              6    693\n",
       "6              7    647\n",
       "7              8    710\n",
       "8              9    638\n",
       "9             10    602\n",
       "10            11    560\n",
       "11            12    490"
      ]
     },
     "execution_count": 21,
     "metadata": {},
     "output_type": "execute_result"
    }
   ],
   "source": [
    "#result = df_person_info.groupby(['Year','month_number', 'period'])['Link'].count().reset_index()\n",
    "result = df_person_info.groupby(['month_number'])['Link'].count().reset_index()\n",
    "result=result.rename(columns={\"Link\": \"count\"})\n",
    "result\n"
   ]
  },
  {
   "cell_type": "code",
   "execution_count": 22,
   "id": "c5a520de",
   "metadata": {},
   "outputs": [
    {
     "data": {
      "text/html": [
       "<div>\n",
       "<style scoped>\n",
       "    .dataframe tbody tr th:only-of-type {\n",
       "        vertical-align: middle;\n",
       "    }\n",
       "\n",
       "    .dataframe tbody tr th {\n",
       "        vertical-align: top;\n",
       "    }\n",
       "\n",
       "    .dataframe thead th {\n",
       "        text-align: right;\n",
       "    }\n",
       "</style>\n",
       "<table border=\"1\" class=\"dataframe\">\n",
       "  <thead>\n",
       "    <tr style=\"text-align: right;\">\n",
       "      <th></th>\n",
       "      <th>shere</th>\n",
       "    </tr>\n",
       "    <tr>\n",
       "      <th>month_short</th>\n",
       "      <th></th>\n",
       "    </tr>\n",
       "  </thead>\n",
       "  <tbody>\n",
       "    <tr>\n",
       "      <th>1</th>\n",
       "      <td>8.215084</td>\n",
       "    </tr>\n",
       "    <tr>\n",
       "      <th>2</th>\n",
       "      <td>7.909194</td>\n",
       "    </tr>\n",
       "    <tr>\n",
       "      <th>3</th>\n",
       "      <td>8.144557</td>\n",
       "    </tr>\n",
       "    <tr>\n",
       "      <th>4</th>\n",
       "      <td>7.597632</td>\n",
       "    </tr>\n",
       "    <tr>\n",
       "      <th>5</th>\n",
       "      <td>8.128993</td>\n",
       "    </tr>\n",
       "    <tr>\n",
       "      <th>6</th>\n",
       "      <td>7.812092</td>\n",
       "    </tr>\n",
       "    <tr>\n",
       "      <th>7</th>\n",
       "      <td>9.460962</td>\n",
       "    </tr>\n",
       "    <tr>\n",
       "      <th>8</th>\n",
       "      <td>9.012697</td>\n",
       "    </tr>\n",
       "    <tr>\n",
       "      <th>9</th>\n",
       "      <td>8.742796</td>\n",
       "    </tr>\n",
       "    <tr>\n",
       "      <th>10</th>\n",
       "      <td>8.993096</td>\n",
       "    </tr>\n",
       "    <tr>\n",
       "      <th>11</th>\n",
       "      <td>8.088323</td>\n",
       "    </tr>\n",
       "    <tr>\n",
       "      <th>12</th>\n",
       "      <td>7.894573</td>\n",
       "    </tr>\n",
       "  </tbody>\n",
       "</table>\n",
       "</div>"
      ],
      "text/plain": [
       "                shere\n",
       "month_short          \n",
       "1            8.215084\n",
       "2            7.909194\n",
       "3            8.144557\n",
       "4            7.597632\n",
       "5            8.128993\n",
       "6            7.812092\n",
       "7            9.460962\n",
       "8            9.012697\n",
       "9            8.742796\n",
       "10           8.993096\n",
       "11           8.088323\n",
       "12           7.894573"
      ]
     },
     "execution_count": 22,
     "metadata": {},
     "output_type": "execute_result"
    }
   ],
   "source": [
    "df_coef_month"
   ]
  },
  {
   "cell_type": "code",
   "execution_count": 23,
   "id": "7f3331f2",
   "metadata": {},
   "outputs": [],
   "source": [
    "'''\n",
    "If the data is distributed evenly, then for each month, it share should be 100/12=8.3333\n",
    "'''\n",
    "\n",
    "df=result.merge(df_coef_month, left_on='month_number', right_on='month_short')\n",
    "#total_sum=df['count'].sum()\n",
    "df['weight count']=(df['count']*8.333333333)/df['shere']\n",
    "df=df.set_index('month_number')"
   ]
  },
  {
   "cell_type": "code",
   "execution_count": 24,
   "id": "2ff707d0",
   "metadata": {},
   "outputs": [
    {
     "data": {
      "text/plain": [
       "<Axes: xlabel='month_number'>"
      ]
     },
     "execution_count": 24,
     "metadata": {},
     "output_type": "execute_result"
    },
    {
     "data": {
      "image/png": "[encoded data removed]",
      "text/plain": [
       "<Figure size 640x480 with 1 Axes>"
      ]
     },
     "metadata": {},
     "output_type": "display_data"
    }
   ],
   "source": [
    "df['weight count'].plot.bar()"
   ]
  }
 ],
 "metadata": {
  "kernelspec": {
   "display_name": "Python 3 (ipykernel)",
   "language": "python",
   "name": "python3"
  },
  "language_info": {
   "codemirror_mode": {
    "name": "ipython",
    "version": 3
   },
   "file_extension": ".py",
   "mimetype": "text/x-python",
   "name": "python",
   "nbconvert_exporter": "python",
   "pygments_lexer": "ipython3",
   "version": "3.10.9"
  }
 },
 "nbformat": 4,
 "nbformat_minor": 5
}
