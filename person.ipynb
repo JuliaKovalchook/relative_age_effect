{
 "cells": [
  {
   "cell_type": "code",
   "execution_count": 21,
   "id": "baeece9f",
   "metadata": {},
   "outputs": [],
   "source": [
    "import pandas as pd\n",
    "import numpy as np\n",
    "import sys\n",
    "\n",
    "from urllib.request import urlopen\n",
    "from urllib.parse import unquote\n",
    "from bs4 import BeautifulSoup\n",
    "\n",
    "import re\n",
    "import time"
   ]
  },
  {
   "cell_type": "code",
   "execution_count": 22,
   "id": "810ce923",
   "metadata": {},
   "outputs": [],
   "source": [
    "link='/wiki/%D0%93%D1%80%D0%B8%D0%BC%D0%B0%D0%BB%D1%8C%D1%81%D1%8C%D0%BA%D0%B0_%D0%A2%D0%B0%D0%BC%D0%B0%D1%80%D0%B0_%D0%9C%D0%B8%D0%BA%D0%BE%D0%BB%D0%B0%D1%97%D0%B2%D0%BD%D0%B0'\n",
    "wiki_text='https://uk.wikipedia.org'\n",
    "html=wiki_text+link\n",
    "html_open = urlopen(html)\n",
    "bs1 = BeautifulSoup(html_open, 'html.parser')\n",
    "\n",
    "def function_birth(bs1):\n",
    "    \n",
    "    print('Link: ', unquote(html.encode('cp1251')) ) \n",
    "    print('Name: ', bs1.find('h1', {'class': 'firstHeading mw-first-heading'}).text) \n",
    "    \n",
    "    try:\n",
    "        categories= bs1.find('div', {'class': 'mw-normal-catlinks'}).find_all('a', {'title': re.compile(r'Народились')})\n",
    "        month_birth = categories[0].text[11:]\n",
    "        year_birth = categories[1].text[11:]\n",
    "        print('Month: ', month_birth)\n",
    "        print('Year: ', year_birth)\n",
    "        \n",
    "        #text_first_sentance = bs1.find(\"div\", {\"id\": \"bodyContent\"})\\\n",
    "        #                      .find(\"div\", {\"id\": \"mw-content-text\"})\\\n",
    "        #                      .find(\"div\", {\"class\": \"mw-parser-output\"})\\\n",
    "        #                      .find(\"p\", class_=lambda x: x != 'mw-empty-elt' and x != 'infobox infobox_v2 vcard').text\n",
    "        #print('check: ', text_first_sentance)\n",
    "        \n",
    "    except IndexError:\n",
    "        pass\n",
    "\n",
    "#function_birth(bs1)\n"
   ]
  },
  {
   "cell_type": "code",
   "execution_count": 23,
   "id": "80df83c7",
   "metadata": {},
   "outputs": [],
   "source": [
    "#create recursion\n",
    "#link='/wiki/%D0%9A%D0%B0%D1%82%D0%B5%D0%B3%D0%BE%D1%80%D1%96%D1%8F:%D0%A3%D0%BA%D1%80%D0%B0%D1%97%D0%BD%D1%81%D1%8C%D0%BA%D1%96_%D0%B4%D0%B8%D0%B7%D0%B0%D0%B9%D0%BD%D0%B5%D1%80%D0%B8'\n",
    "link='/wiki/%D0%9A%D0%B0%D1%82%D0%B5%D0%B3%D0%BE%D1%80%D1%96%D1%8F:%D0%A3%D0%BA%D1%80%D0%B0%D1%97%D0%BD%D1%81%D1%8C%D0%BA%D1%96_%D0%B2%D0%B8%D0%BD%D0%BE%D1%80%D0%BE%D0%B1%D0%B8'\n",
    "wiki_text='https://uk.wikipedia.org'\n",
    "link_old=None\n",
    "list_persons=[]\n",
    "\n",
    "\n",
    "def recursion_link(link):\n",
    "    list_links_person=[]\n",
    "    html=wiki_text+link\n",
    "    html_open = urlopen(html)\n",
    "    bs1 = BeautifulSoup(html_open, 'html.parser')\n",
    "    full_name= bs1.find('h1', {'class': 'firstHeading mw-first-heading'}).text\n",
    "    print('We are here (name): ', full_name) \n",
    "    print('We are here (link): ',html)\n",
    "    list_persons.append({'Full name': full_name,'Link': html})\n",
    "    try:\n",
    "        all_links = bs1.find('div', {'id': 'bodyContent'}).find('div', {'class': 'mw-category-generated'}).find_all('a')   \n",
    "        for link_herf in all_links:\n",
    "            link_new=link_herf['href']\n",
    "            print ('Cuurent:  ', unquote(link.encode('cp1251')), '\\n') \n",
    "            recursion_link(link_new)       \n",
    "\n",
    "    except AttributeError:\n",
    "            print ('There\\'s no item with that code') \n",
    "       \n",
    "    return list_persons   \n",
    "\n",
    "\n",
    "#recursion_link(link)\n",
    "#df_one_person=pd.DataFrame(list_persons)\n",
    "#df_one_person\n"
   ]
  },
  {
   "cell_type": "code",
   "execution_count": null,
   "id": "5bda289d",
   "metadata": {},
   "outputs": [],
   "source": []
  },
  {
   "cell_type": "code",
   "execution_count": 24,
   "id": "3e8bad9e",
   "metadata": {},
   "outputs": [
    {
     "name": "stdout",
     "output_type": "stream",
     "text": [
      "-------------------\n",
      "\n"
     ]
    }
   ],
   "source": [
    "#create recursion\n",
    "#link='/wiki/%D0%9A%D0%B0%D1%82%D0%B5%D0%B3%D0%BE%D1%80%D1%96%D1%8F:%D0%A3%D0%BA%D1%80%D0%B0%D1%97%D0%BD%D1%81%D1%8C%D0%BA%D1%96_%D0%B4%D0%B8%D0%B7%D0%B0%D0%B9%D0%BD%D0%B5%D1%80%D0%B8'\n",
    "#link='/wiki/%D0%9A%D0%B0%D1%82%D0%B5%D0%B3%D0%BE%D1%80%D1%96%D1%8F:%D0%92%D0%B8%D0%BD%D0%B0_%D0%B2_%D0%A3%D0%BA%D1%80%D0%B0%D1%97%D0%BD%D1%96'\n",
    "wiki_text='https://uk.wikipedia.org'\n",
    "link='/wiki/%D0%9A%D0%B0%D1%82%D0%B5%D0%B3%D0%BE%D1%80%D1%96%D1%8F:%D0%9F%D1%96%D0%B4%D0%BF%D1%80%D0%B8%D1%94%D0%BC%D1%81%D1%82%D0%B2%D0%B0_%D0%9C%D0%B0%D0%BA%D1%96%D1%97%D0%B2%D0%BA%D0%B8'\n",
    "link_old=None\n",
    "list_persons=[]\n",
    "level=0\n",
    "link_list=[]\n",
    "level_list=[]\n",
    "old_level=0\n",
    "\n",
    "def recursion_link(link, level, link_list):\n",
    "    \n",
    "    html=wiki_text+link\n",
    "    html_open = urlopen(html)\n",
    "    bs1 = BeautifulSoup(html_open, 'html.parser')\n",
    "    full_name= bs1.find('h1', {'class': 'firstHeading mw-first-heading'}).text\n",
    "    \n",
    "    level+=1\n",
    "    level_list.append(level)\n",
    "    #print('We are here (link): ',html)\n",
    "    if len(level_list)>=2:\n",
    "        old_level=level_list[-2]\n",
    "        #print('pr velve: ', old_level) \n",
    "    else: old_level=0\n",
    "    if level-old_level<0:\n",
    "        link_list.pop()\n",
    "        print('we do drop', level-old_level)\n",
    "        \n",
    "    print('\\nWe are here', level, '(name): ', full_name) \n",
    "    #print(link_list)\n",
    "    link_list.append(unquote(html.encode('cp1251')))\n",
    "    list_persons.append({'Full name': full_name,'Link': html, 'Level': level, 'old_level': old_level, 'link_list': link_list})\n",
    "    \n",
    "    try:\n",
    "        #diff.pop()\n",
    "        all_links = bs1.find('div', {'id': 'bodyContent'}).find('div', {'class': 'mw-category-generated'}).find_all('a')       \n",
    "        for link_herf in all_links:\n",
    "            link_new=link_herf['href']\n",
    "            #print ('Cuurent:  ', unquote(link.encode('cp1251')), '\\n') \n",
    "            recursion_link(link_new, level, link_list)\n",
    "\n",
    "\n",
    "\n",
    "    except AttributeError:\n",
    "        #print ('End')\n",
    "        link_list.pop()\n",
    "        #print('we drop finish element')\n",
    "        \n",
    "\n",
    "\n",
    "    return list_persons   \n",
    "\n",
    "\n",
    "#recursion_link(link, level, link_list)\n",
    "#df_one_person=pd.DataFrame(list_persons)\n",
    "#df_one_person\n",
    "\n",
    "print('-------------------\\n')\n",
    "#print(list_persons)"
   ]
  },
  {
   "cell_type": "code",
   "execution_count": 25,
   "id": "8a6c4d3c",
   "metadata": {},
   "outputs": [],
   "source": [
    "#df_one_person['link_list'].tolist()"
   ]
  },
  {
   "cell_type": "code",
   "execution_count": 8,
   "id": "ccf4e089",
   "metadata": {},
   "outputs": [
    {
     "name": "stdout",
     "output_type": "stream",
     "text": [
      "[{'Full name': 'Категорія:Підприємства Макіївки', 'Link': 'https://uk.wikipedia.org/wiki/%D0%9A%D0%B0%D1%82%D0%B5%D0%B3%D0%BE%D1%80%D1%96%D1%8F:%D0%9F%D1%96%D0%B4%D0%BF%D1%80%D0%B8%D1%94%D0%BC%D1%81%D1%82%D0%B2%D0%B0_%D0%9C%D0%B0%D0%BA%D1%96%D1%97%D0%B2%D0%BA%D0%B8', 'Level': 1, 'old_level': 0, 'link_list': ['https://uk.wikipedia.org/wiki/Категорія:Підприємства_Макіївки']}, {'Full name': 'Категорія:Збагачувальні фабрики Макіївки', 'Link': 'https://uk.wikipedia.org/wiki/%D0%9A%D0%B0%D1%82%D0%B5%D0%B3%D0%BE%D1%80%D1%96%D1%8F:%D0%97%D0%B1%D0%B0%D0%B3%D0%B0%D1%87%D1%83%D0%B2%D0%B0%D0%BB%D1%8C%D0%BD%D1%96_%D1%84%D0%B0%D0%B1%D1%80%D0%B8%D0%BA%D0%B8_%D0%9C%D0%B0%D0%BA%D1%96%D1%97%D0%B2%D0%BA%D0%B8', 'Level': 2, 'old_level': 1, 'link_list': ['https://uk.wikipedia.org/wiki/Категорія:Підприємства_Макіївки']}, {'Full name': 'Групова збагачувальна фабрика «Колосниківська»', 'Link': 'https://uk.wikipedia.org/wiki/%D0%93%D1%80%D1%83%D0%BF%D0%BE%D0%B2%D0%B0_%D0%B7%D0%B1%D0%B0%D0%B3%D0%B0%D1%87%D1%83%D0%B2%D0%B0%D0%BB%D1%8C%D0%BD%D0%B0_%D1%84%D0%B0%D0%B1%D1%80%D0%B8%D0%BA%D0%B0_%C2%AB%D0%9A%D0%BE%D0%BB%D0%BE%D1%81%D0%BD%D0%B8%D0%BA%D1%96%D0%B2%D1%81%D1%8C%D0%BA%D0%B0%C2%BB', 'Level': 3, 'old_level': 2, 'link_list': ['https://uk.wikipedia.org/wiki/Категорія:Підприємства_Макіївки']}, {'Full name': 'Групова збагачувальна фабрика «Пролетарська»', 'Link': 'https://uk.wikipedia.org/wiki/%D0%93%D1%80%D1%83%D0%BF%D0%BE%D0%B2%D0%B0_%D0%B7%D0%B1%D0%B0%D0%B3%D0%B0%D1%87%D1%83%D0%B2%D0%B0%D0%BB%D1%8C%D0%BD%D0%B0_%D1%84%D0%B0%D0%B1%D1%80%D0%B8%D0%BA%D0%B0_%C2%AB%D0%9F%D1%80%D0%BE%D0%BB%D0%B5%D1%82%D0%B0%D1%80%D1%81%D1%8C%D0%BA%D0%B0%C2%BB', 'Level': 3, 'old_level': 3, 'link_list': ['https://uk.wikipedia.org/wiki/Категорія:Підприємства_Макіївки']}, {'Full name': 'Збагачувальна фабрика Макіївського коксохімічного заводу, цех № 2', 'Link': 'https://uk.wikipedia.org/wiki/%D0%97%D0%B1%D0%B0%D0%B3%D0%B0%D1%87%D1%83%D0%B2%D0%B0%D0%BB%D1%8C%D0%BD%D0%B0_%D1%84%D0%B0%D0%B1%D1%80%D0%B8%D0%BA%D0%B0_%D0%9C%D0%B0%D0%BA%D1%96%D1%97%D0%B2%D1%81%D1%8C%D0%BA%D0%BE%D0%B3%D0%BE_%D0%BA%D0%BE%D0%BA%D1%81%D0%BE%D1%85%D1%96%D0%BC%D1%96%D1%87%D0%BD%D0%BE%D0%B3%D0%BE_%D0%B7%D0%B0%D0%B2%D0%BE%D0%B4%D1%83,_%D1%86%D0%B5%D1%85_%E2%84%96_2', 'Level': 3, 'old_level': 3, 'link_list': ['https://uk.wikipedia.org/wiki/Категорія:Підприємства_Макіївки']}, {'Full name': 'Центральна збагачувальна фабрика «Антрацит»', 'Link': 'https://uk.wikipedia.org/wiki/%D0%A6%D0%B5%D0%BD%D1%82%D1%80%D0%B0%D0%BB%D1%8C%D0%BD%D0%B0_%D0%B7%D0%B1%D0%B0%D0%B3%D0%B0%D1%87%D1%83%D0%B2%D0%B0%D0%BB%D1%8C%D0%BD%D0%B0_%D1%84%D0%B0%D0%B1%D1%80%D0%B8%D0%BA%D0%B0_%C2%AB%D0%90%D0%BD%D1%82%D1%80%D0%B0%D1%86%D0%B8%D1%82%C2%BB', 'Level': 3, 'old_level': 3, 'link_list': ['https://uk.wikipedia.org/wiki/Категорія:Підприємства_Макіївки']}, {'Full name': 'Категорія:Шахти Макіївки', 'Link': 'https://uk.wikipedia.org/wiki/%D0%9A%D0%B0%D1%82%D0%B5%D0%B3%D0%BE%D1%80%D1%96%D1%8F:%D0%A8%D0%B0%D1%85%D1%82%D0%B8_%D0%9C%D0%B0%D0%BA%D1%96%D1%97%D0%B2%D0%BA%D0%B8', 'Level': 2, 'old_level': 3, 'link_list': ['https://uk.wikipedia.org/wiki/Категорія:Підприємства_Макіївки']}, {'Full name': 'Шахта № 13-біс', 'Link': 'https://uk.wikipedia.org/wiki/%D0%A8%D0%B0%D1%85%D1%82%D0%B0_%E2%84%96_13-%D0%B1%D1%96%D1%81', 'Level': 3, 'old_level': 2, 'link_list': ['https://uk.wikipedia.org/wiki/Категорія:Підприємства_Макіївки']}, {'Full name': 'Шахта імені В. М. Бажанова', 'Link': 'https://uk.wikipedia.org/wiki/%D0%A8%D0%B0%D1%85%D1%82%D0%B0_%D1%96%D0%BC%D0%B5%D0%BD%D1%96_%D0%92._%D0%9C._%D0%91%D0%B0%D0%B6%D0%B0%D0%BD%D0%BE%D0%B2%D0%B0', 'Level': 3, 'old_level': 3, 'link_list': ['https://uk.wikipedia.org/wiki/Категорія:Підприємства_Макіївки']}, {'Full name': 'Шахта «Бутівська»', 'Link': 'https://uk.wikipedia.org/wiki/%D0%A8%D0%B0%D1%85%D1%82%D0%B0_%C2%AB%D0%91%D1%83%D1%82%D1%96%D0%B2%D1%81%D1%8C%D0%BA%D0%B0%C2%BB', 'Level': 3, 'old_level': 3, 'link_list': ['https://uk.wikipedia.org/wiki/Категорія:Підприємства_Макіївки']}, {'Full name': 'Шахта «Калинівська-Східна»', 'Link': 'https://uk.wikipedia.org/wiki/%D0%A8%D0%B0%D1%85%D1%82%D0%B0_%C2%AB%D0%9A%D0%B0%D0%BB%D0%B8%D0%BD%D1%96%D0%B2%D1%81%D1%8C%D0%BA%D0%B0-%D0%A1%D1%85%D1%96%D0%B4%D0%BD%D0%B0%C2%BB', 'Level': 3, 'old_level': 3, 'link_list': ['https://uk.wikipedia.org/wiki/Категорія:Підприємства_Макіївки']}, {'Full name': 'Шахта імені С. М. Кірова (Макіївка)', 'Link': 'https://uk.wikipedia.org/wiki/%D0%A8%D0%B0%D1%85%D1%82%D0%B0_%D1%96%D0%BC%D0%B5%D0%BD%D1%96_%D0%A1._%D0%9C._%D0%9A%D1%96%D1%80%D0%BE%D0%B2%D0%B0_(%D0%9C%D0%B0%D0%BA%D1%96%D1%97%D0%B2%D0%BA%D0%B0)', 'Level': 3, 'old_level': 3, 'link_list': ['https://uk.wikipedia.org/wiki/Категорія:Підприємства_Макіївки']}, {'Full name': 'Шахта імені В. І. Леніна (Макіївка)', 'Link': 'https://uk.wikipedia.org/wiki/%D0%A8%D0%B0%D1%85%D1%82%D0%B0_%D1%96%D0%BC%D0%B5%D0%BD%D1%96_%D0%92._%D0%86._%D0%9B%D0%B5%D0%BD%D1%96%D0%BD%D0%B0_(%D0%9C%D0%B0%D0%BA%D1%96%D1%97%D0%B2%D0%BA%D0%B0)', 'Level': 3, 'old_level': 3, 'link_list': ['https://uk.wikipedia.org/wiki/Категорія:Підприємства_Макіївки']}, {'Full name': 'Шахта імені Орджонікідзе', 'Link': 'https://uk.wikipedia.org/wiki/%D0%A8%D0%B0%D1%85%D1%82%D0%B0_%D1%96%D0%BC%D0%B5%D0%BD%D1%96_%D0%9E%D1%80%D0%B4%D0%B6%D0%BE%D0%BD%D1%96%D0%BA%D1%96%D0%B4%D0%B7%D0%B5', 'Level': 3, 'old_level': 3, 'link_list': ['https://uk.wikipedia.org/wiki/Категорія:Підприємства_Макіївки']}, {'Full name': 'Шахта «Північна» (Макіївка)', 'Link': 'https://uk.wikipedia.org/wiki/%D0%A8%D0%B0%D1%85%D1%82%D0%B0_%C2%AB%D0%9F%D1%96%D0%B2%D0%BD%D1%96%D1%87%D0%BD%D0%B0%C2%BB_(%D0%9C%D0%B0%D0%BA%D1%96%D1%97%D0%B2%D0%BA%D0%B0)', 'Level': 3, 'old_level': 3, 'link_list': ['https://uk.wikipedia.org/wiki/Категорія:Підприємства_Макіївки']}, {'Full name': 'Шахта імені К. І. Поченкова', 'Link': 'https://uk.wikipedia.org/wiki/%D0%A8%D0%B0%D1%85%D1%82%D0%B0_%D1%96%D0%BC%D0%B5%D0%BD%D1%96_%D0%9A._%D0%86._%D0%9F%D0%BE%D1%87%D0%B5%D0%BD%D0%BA%D0%BE%D0%B2%D0%B0', 'Level': 3, 'old_level': 3, 'link_list': ['https://uk.wikipedia.org/wiki/Категорія:Підприємства_Макіївки']}, {'Full name': 'Шахта «Совєтська»', 'Link': 'https://uk.wikipedia.org/wiki/%D0%A8%D0%B0%D1%85%D1%82%D0%B0_%C2%AB%D0%A1%D0%BE%D0%B2%D1%94%D1%82%D1%81%D1%8C%D0%BA%D0%B0%C2%BB', 'Level': 3, 'old_level': 3, 'link_list': ['https://uk.wikipedia.org/wiki/Категорія:Підприємства_Макіївки']}, {'Full name': 'Шахта «Холодна балка»', 'Link': 'https://uk.wikipedia.org/wiki/%D0%A8%D0%B0%D1%85%D1%82%D0%B0_%C2%AB%D0%A5%D0%BE%D0%BB%D0%BE%D0%B4%D0%BD%D0%B0_%D0%B1%D0%B0%D0%BB%D0%BA%D0%B0%C2%BB', 'Level': 3, 'old_level': 3, 'link_list': ['https://uk.wikipedia.org/wiki/Категорія:Підприємства_Макіївки']}, {'Full name': 'Шахта «Чайкине»', 'Link': 'https://uk.wikipedia.org/wiki/%D0%A8%D0%B0%D1%85%D1%82%D0%B0_%C2%AB%D0%A7%D0%B0%D0%B9%D0%BA%D0%B8%D0%BD%D0%B5%C2%BB', 'Level': 3, 'old_level': 3, 'link_list': ['https://uk.wikipedia.org/wiki/Категорія:Підприємства_Макіївки']}, {'Full name': 'Шахта «Ясинівська-Глибока»', 'Link': 'https://uk.wikipedia.org/wiki/%D0%A8%D0%B0%D1%85%D1%82%D0%B0_%C2%AB%D0%AF%D1%81%D0%B8%D0%BD%D1%96%D0%B2%D1%81%D1%8C%D0%BA%D0%B0-%D0%93%D0%BB%D0%B8%D0%B1%D0%BE%D0%BA%D0%B0%C2%BB', 'Level': 3, 'old_level': 3, 'link_list': ['https://uk.wikipedia.org/wiki/Категорія:Підприємства_Макіївки']}, {'Full name': 'Макіїввугілля', 'Link': 'https://uk.wikipedia.org/wiki/%D0%9C%D0%B0%D0%BA%D1%96%D1%97%D0%B2%D0%B2%D1%83%D0%B3%D1%96%D0%BB%D0%BB%D1%8F', 'Level': 2, 'old_level': 3, 'link_list': ['https://uk.wikipedia.org/wiki/Категорія:Підприємства_Макіївки']}, {'Full name': 'Макіївкокс', 'Link': 'https://uk.wikipedia.org/wiki/%D0%9C%D0%B0%D0%BA%D1%96%D1%97%D0%B2%D0%BA%D0%BE%D0%BA%D1%81', 'Level': 2, 'old_level': 2, 'link_list': ['https://uk.wikipedia.org/wiki/Категорія:Підприємства_Макіївки']}, {'Full name': 'Макіївський завод шахтної автоматики', 'Link': 'https://uk.wikipedia.org/wiki/%D0%9C%D0%B0%D0%BA%D1%96%D1%97%D0%B2%D1%81%D1%8C%D0%BA%D0%B8%D0%B9_%D0%B7%D0%B0%D0%B2%D0%BE%D0%B4_%D1%88%D0%B0%D1%85%D1%82%D0%BD%D0%BE%D1%97_%D0%B0%D0%B2%D1%82%D0%BE%D0%BC%D0%B0%D1%82%D0%B8%D0%BA%D0%B8', 'Level': 2, 'old_level': 2, 'link_list': ['https://uk.wikipedia.org/wiki/Категорія:Підприємства_Макіївки']}, {'Full name': 'Макіївський коксохімічний завод', 'Link': 'https://uk.wikipedia.org/wiki/%D0%9C%D0%B0%D0%BA%D1%96%D1%97%D0%B2%D1%81%D1%8C%D0%BA%D0%B8%D0%B9_%D0%BA%D0%BE%D0%BA%D1%81%D0%BE%D1%85%D1%96%D0%BC%D1%96%D1%87%D0%BD%D0%B8%D0%B9_%D0%B7%D0%B0%D0%B2%D0%BE%D0%B4', 'Level': 2, 'old_level': 2, 'link_list': ['https://uk.wikipedia.org/wiki/Категорія:Підприємства_Макіївки']}, {'Full name': 'Макіївський машинобудівний завод', 'Link': 'https://uk.wikipedia.org/wiki/%D0%9C%D0%B0%D0%BA%D1%96%D1%97%D0%B2%D1%81%D1%8C%D0%BA%D0%B8%D0%B9_%D0%BC%D0%B0%D1%88%D0%B8%D0%BD%D0%BE%D0%B1%D1%83%D0%B4%D1%96%D0%B2%D0%BD%D0%B8%D0%B9_%D0%B7%D0%B0%D0%B2%D0%BE%D0%B4', 'Level': 2, 'old_level': 2, 'link_list': ['https://uk.wikipedia.org/wiki/Категорія:Підприємства_Макіївки']}, {'Full name': 'Макіївський металургійний комбінат', 'Link': 'https://uk.wikipedia.org/wiki/%D0%9C%D0%B0%D0%BA%D1%96%D1%97%D0%B2%D1%81%D1%8C%D0%BA%D0%B8%D0%B9_%D0%BC%D0%B5%D1%82%D0%B0%D0%BB%D1%83%D1%80%D0%B3%D1%96%D0%B9%D0%BD%D0%B8%D0%B9_%D0%BA%D0%BE%D0%BC%D0%B1%D1%96%D0%BD%D0%B0%D1%82', 'Level': 2, 'old_level': 2, 'link_list': ['https://uk.wikipedia.org/wiki/Категорія:Підприємства_Макіївки']}, {'Full name': 'Юніон (телерадіокомпанія)', 'Link': 'https://uk.wikipedia.org/wiki/%D0%AE%D0%BD%D1%96%D0%BE%D0%BD_(%D1%82%D0%B5%D0%BB%D0%B5%D1%80%D0%B0%D0%B4%D1%96%D0%BE%D0%BA%D0%BE%D0%BC%D0%BF%D0%B0%D0%BD%D1%96%D1%8F)', 'Level': 2, 'old_level': 2, 'link_list': ['https://uk.wikipedia.org/wiki/Категорія:Підприємства_Макіївки']}, {'Full name': 'Ясинівський коксохімічний завод', 'Link': 'https://uk.wikipedia.org/wiki/%D0%AF%D1%81%D0%B8%D0%BD%D1%96%D0%B2%D1%81%D1%8C%D0%BA%D0%B8%D0%B9_%D0%BA%D0%BE%D0%BA%D1%81%D0%BE%D1%85%D1%96%D0%BC%D1%96%D1%87%D0%BD%D0%B8%D0%B9_%D0%B7%D0%B0%D0%B2%D0%BE%D0%B4', 'Level': 2, 'old_level': 2, 'link_list': ['https://uk.wikipedia.org/wiki/Категорія:Підприємства_Макіївки']}]\n"
     ]
    }
   ],
   "source": [
    "print(list_persons)"
   ]
  },
  {
   "cell_type": "code",
   "execution_count": null,
   "id": "ead5e344",
   "metadata": {},
   "outputs": [],
   "source": [
    "def test(x,y,z):\n",
    "    "
   ]
  }
 ],
 "metadata": {
  "kernelspec": {
   "display_name": "Python 3 (ipykernel)",
   "language": "python",
   "name": "python3"
  },
  "language_info": {
   "codemirror_mode": {
    "name": "ipython",
    "version": 3
   },
   "file_extension": ".py",
   "mimetype": "text/x-python",
   "name": "python",
   "nbconvert_exporter": "python",
   "pygments_lexer": "ipython3",
   "version": "3.10.9"
  }
 },
 "nbformat": 4,
 "nbformat_minor": 5
}
