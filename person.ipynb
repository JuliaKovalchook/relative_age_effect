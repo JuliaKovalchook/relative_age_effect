{
 "cells": [
  {
   "cell_type": "code",
   "execution_count": 1,
   "id": "baeece9f",
   "metadata": {},
   "outputs": [],
   "source": [
    "import pandas as pd\n",
    "import numpy as np\n",
    "import sys\n",
    "\n",
    "from urllib.request import urlopen\n",
    "from urllib.parse import unquote\n",
    "from bs4 import BeautifulSoup\n",
    "\n",
    "import re\n",
    "import time"
   ]
  },
  {
   "cell_type": "code",
   "execution_count": 2,
   "id": "810ce923",
   "metadata": {},
   "outputs": [],
   "source": [
    "link='/wiki/%D0%93%D1%80%D0%B8%D0%BC%D0%B0%D0%BB%D1%8C%D1%81%D1%8C%D0%BA%D0%B0_%D0%A2%D0%B0%D0%BC%D0%B0%D1%80%D0%B0_%D0%9C%D0%B8%D0%BA%D0%BE%D0%BB%D0%B0%D1%97%D0%B2%D0%BD%D0%B0'\n",
    "wiki_text='https://uk.wikipedia.org'\n",
    "html=wiki_text+link\n",
    "html_open = urlopen(html)\n",
    "bs1 = BeautifulSoup(html_open, 'html.parser')\n",
    "\n",
    "def function_birth(bs1):\n",
    "    \n",
    "    print('Link: ', unquote(html.encode('cp1251')) ) \n",
    "    print('Name: ', bs1.find('h1', {'class': 'firstHeading mw-first-heading'}).text) \n",
    "    \n",
    "    try:\n",
    "        categories= bs1.find('div', {'class': 'mw-normal-catlinks'}).find_all('a', {'title': re.compile(r'Народились')})\n",
    "        month_birth = categories[0].text[11:]\n",
    "        year_birth = categories[1].text[11:]\n",
    "        print('Month: ', month_birth)\n",
    "        print('Year: ', year_birth)\n",
    "        \n",
    "        #text_first_sentance = bs1.find(\"div\", {\"id\": \"bodyContent\"})\\\n",
    "        #                      .find(\"div\", {\"id\": \"mw-content-text\"})\\\n",
    "        #                      .find(\"div\", {\"class\": \"mw-parser-output\"})\\\n",
    "        #                      .find(\"p\", class_=lambda x: x != 'mw-empty-elt' and x != 'infobox infobox_v2 vcard').text\n",
    "        #print('check: ', text_first_sentance)\n",
    "        \n",
    "    except IndexError:\n",
    "        pass\n",
    "\n",
    "#function_birth(bs1)\n"
   ]
  },
  {
   "cell_type": "code",
   "execution_count": 3,
   "id": "80df83c7",
   "metadata": {},
   "outputs": [],
   "source": [
    "#create recursion\n",
    "#link='/wiki/%D0%9A%D0%B0%D1%82%D0%B5%D0%B3%D0%BE%D1%80%D1%96%D1%8F:%D0%A3%D0%BA%D1%80%D0%B0%D1%97%D0%BD%D1%81%D1%8C%D0%BA%D1%96_%D0%B4%D0%B8%D0%B7%D0%B0%D0%B9%D0%BD%D0%B5%D1%80%D0%B8'\n",
    "link='/wiki/%D0%9A%D0%B0%D1%82%D0%B5%D0%B3%D0%BE%D1%80%D1%96%D1%8F:%D0%A3%D0%BA%D1%80%D0%B0%D1%97%D0%BD%D1%81%D1%8C%D0%BA%D1%96_%D0%B2%D0%B8%D0%BD%D0%BE%D1%80%D0%BE%D0%B1%D0%B8'\n",
    "wiki_text='https://uk.wikipedia.org'\n",
    "link_old=None\n",
    "list_persons=[]\n",
    "\n",
    "\n",
    "def recursion_link(link):\n",
    "    list_links_person=[]\n",
    "    html=wiki_text+link\n",
    "    html_open = urlopen(html)\n",
    "    bs1 = BeautifulSoup(html_open, 'html.parser')\n",
    "    full_name= bs1.find('h1', {'class': 'firstHeading mw-first-heading'}).text\n",
    "    print('We are here (name): ', full_name) \n",
    "    print('We are here (link): ',html)\n",
    "    list_persons.append({'Full name': full_name,'Link': html})\n",
    "    try:\n",
    "        all_links = bs1.find('div', {'id': 'bodyContent'}).find('div', {'class': 'mw-category-generated'}).find_all('a')   \n",
    "        for link_herf in all_links:\n",
    "            link_new=link_herf['href']\n",
    "            print ('Cuurent:  ', unquote(link.encode('cp1251')), '\\n') \n",
    "            recursion_link(link_new)       \n",
    "\n",
    "    except AttributeError:\n",
    "            print ('There\\'s no item with that code') \n",
    "       \n",
    "    return list_persons   \n",
    "\n",
    "\n",
    "#recursion_link(link)\n",
    "#df_one_person=pd.DataFrame(list_persons)\n",
    "#df_one_person\n"
   ]
  },
  {
   "cell_type": "code",
   "execution_count": null,
   "id": "5bda289d",
   "metadata": {},
   "outputs": [],
   "source": []
  },
  {
   "cell_type": "code",
   "execution_count": 31,
   "id": "3e8bad9e",
   "metadata": {},
   "outputs": [
    {
     "name": "stdout",
     "output_type": "stream",
     "text": [
      "\n",
      "We are here 1 (name):  Категорія:Вина в Україні\n",
      "\n",
      "Full name Категорія:Вина в Україні\n",
      "\n",
      " list_person is:  [{'Full name': 'Категорія:Вина в Україні', 'Link': 'https://uk.wikipedia.org/wiki/%D0%9A%D0%B0%D1%82%D0%B5%D0%B3%D0%BE%D1%80%D1%96%D1%8F:%D0%92%D0%B8%D0%BD%D0%B0_%D0%B2_%D0%A3%D0%BA%D1%80%D0%B0%D1%97%D0%BD%D1%96', 'Level': 1, 'link_list': ['https://uk.wikipedia.org/wiki/Категорія:Вина_в_Україні']}]\n",
      "\n",
      "We are here 2 (name):  Категорія:Вина Криму\n"
     ]
    },
    {
     "ename": "TypeError",
     "evalue": "slice indices must be integers or None or have an __index__ method",
     "output_type": "error",
     "traceback": [
      "\u001b[0;31m---------------------------------------------------------------------------\u001b[0m",
      "\u001b[0;31mTypeError\u001b[0m                                 Traceback (most recent call last)",
      "Cell \u001b[0;32mIn[31], line 62\u001b[0m\n\u001b[1;32m     54\u001b[0m         \u001b[38;5;66;03m#print('we drop finish element')\u001b[39;00m\n\u001b[1;32m     59\u001b[0m     \u001b[38;5;28;01mreturn\u001b[39;00m list_persons   \n\u001b[0;32m---> 62\u001b[0m \u001b[43mrecursion_link\u001b[49m\u001b[43m(\u001b[49m\u001b[43mlink\u001b[49m\u001b[43m,\u001b[49m\u001b[43m \u001b[49m\u001b[43mlevel\u001b[49m\u001b[43m)\u001b[49m\n\u001b[1;32m     64\u001b[0m \u001b[38;5;28mprint\u001b[39m(\u001b[38;5;124m'\u001b[39m\u001b[38;5;124m3 return: \u001b[39m\u001b[38;5;124m'\u001b[39m, list_persons)\n",
      "Cell \u001b[0;32mIn[31], line 47\u001b[0m, in \u001b[0;36mrecursion_link\u001b[0;34m(link, level)\u001b[0m\n\u001b[1;32m     45\u001b[0m         link_new\u001b[38;5;241m=\u001b[39mlink_herf[\u001b[38;5;124m'\u001b[39m\u001b[38;5;124mhref\u001b[39m\u001b[38;5;124m'\u001b[39m]\n\u001b[1;32m     46\u001b[0m         \u001b[38;5;66;03m#print ('Cuurent:  ', unquote(link.encode('cp1251')), '\\n') \u001b[39;00m\n\u001b[0;32m---> 47\u001b[0m         \u001b[43mrecursion_link\u001b[49m\u001b[43m(\u001b[49m\u001b[43mlink_new\u001b[49m\u001b[43m,\u001b[49m\u001b[43m \u001b[49m\u001b[43mlevel\u001b[49m\u001b[43m)\u001b[49m\n\u001b[1;32m     51\u001b[0m \u001b[38;5;28;01mexcept\u001b[39;00m \u001b[38;5;167;01mAttributeError\u001b[39;00m:\n\u001b[1;32m     52\u001b[0m     \u001b[38;5;66;03m#print ('End')\u001b[39;00m\n\u001b[1;32m     53\u001b[0m     link_list\u001b[38;5;241m.\u001b[39mpop()\n",
      "Cell \u001b[0;32mIn[31], line 34\u001b[0m, in \u001b[0;36mrecursion_link\u001b[0;34m(link, level)\u001b[0m\n\u001b[1;32m     32\u001b[0m \u001b[38;5;28mprint\u001b[39m(\u001b[38;5;124m'\u001b[39m\u001b[38;5;130;01m\\n\u001b[39;00m\u001b[38;5;124mWe are here\u001b[39m\u001b[38;5;124m'\u001b[39m, level, \u001b[38;5;124m'\u001b[39m\u001b[38;5;124m(name): \u001b[39m\u001b[38;5;124m'\u001b[39m, full_name) \n\u001b[1;32m     33\u001b[0m link_list\u001b[38;5;241m.\u001b[39mappend(unquote(html\u001b[38;5;241m.\u001b[39mencode(\u001b[38;5;124m'\u001b[39m\u001b[38;5;124mcp1251\u001b[39m\u001b[38;5;124m'\u001b[39m)))\n\u001b[0;32m---> 34\u001b[0m link_lists \u001b[38;5;241m=\u001b[39m [{\u001b[38;5;124m'\u001b[39m\u001b[38;5;124mlink_list:\u001b[39m\u001b[38;5;124m'\u001b[39m: link_list[:i]}  \u001b[38;5;28;01mfor\u001b[39;00m i \u001b[38;5;129;01min\u001b[39;00m \u001b[38;5;28menumerate\u001b[39m(list_persons, \u001b[38;5;241m1\u001b[39m)]\n\u001b[1;32m     35\u001b[0m list_persons\u001b[38;5;241m.\u001b[39mappend({\u001b[38;5;124m'\u001b[39m\u001b[38;5;124mFull name\u001b[39m\u001b[38;5;124m'\u001b[39m: full_name,\u001b[38;5;124m'\u001b[39m\u001b[38;5;124mLink\u001b[39m\u001b[38;5;124m'\u001b[39m: html, \u001b[38;5;124m'\u001b[39m\u001b[38;5;124mLevel\u001b[39m\u001b[38;5;124m'\u001b[39m: level, \\\n\u001b[1;32m     36\u001b[0m               \u001b[38;5;124m'\u001b[39m\u001b[38;5;124mlink_list\u001b[39m\u001b[38;5;124m'\u001b[39m:link_list })\n\u001b[1;32m     38\u001b[0m \u001b[38;5;28mprint\u001b[39m(\u001b[38;5;124m'\u001b[39m\u001b[38;5;130;01m\\n\u001b[39;00m\u001b[38;5;124mFull name\u001b[39m\u001b[38;5;124m'\u001b[39m, full_name)\n",
      "Cell \u001b[0;32mIn[31], line 34\u001b[0m, in \u001b[0;36m<listcomp>\u001b[0;34m(.0)\u001b[0m\n\u001b[1;32m     32\u001b[0m \u001b[38;5;28mprint\u001b[39m(\u001b[38;5;124m'\u001b[39m\u001b[38;5;130;01m\\n\u001b[39;00m\u001b[38;5;124mWe are here\u001b[39m\u001b[38;5;124m'\u001b[39m, level, \u001b[38;5;124m'\u001b[39m\u001b[38;5;124m(name): \u001b[39m\u001b[38;5;124m'\u001b[39m, full_name) \n\u001b[1;32m     33\u001b[0m link_list\u001b[38;5;241m.\u001b[39mappend(unquote(html\u001b[38;5;241m.\u001b[39mencode(\u001b[38;5;124m'\u001b[39m\u001b[38;5;124mcp1251\u001b[39m\u001b[38;5;124m'\u001b[39m)))\n\u001b[0;32m---> 34\u001b[0m link_lists \u001b[38;5;241m=\u001b[39m [{\u001b[38;5;124m'\u001b[39m\u001b[38;5;124mlink_list:\u001b[39m\u001b[38;5;124m'\u001b[39m: \u001b[43mlink_list\u001b[49m\u001b[43m[\u001b[49m\u001b[43m:\u001b[49m\u001b[43mi\u001b[49m\u001b[43m]\u001b[49m}  \u001b[38;5;28;01mfor\u001b[39;00m i \u001b[38;5;129;01min\u001b[39;00m \u001b[38;5;28menumerate\u001b[39m(list_persons, \u001b[38;5;241m1\u001b[39m)]\n\u001b[1;32m     35\u001b[0m list_persons\u001b[38;5;241m.\u001b[39mappend({\u001b[38;5;124m'\u001b[39m\u001b[38;5;124mFull name\u001b[39m\u001b[38;5;124m'\u001b[39m: full_name,\u001b[38;5;124m'\u001b[39m\u001b[38;5;124mLink\u001b[39m\u001b[38;5;124m'\u001b[39m: html, \u001b[38;5;124m'\u001b[39m\u001b[38;5;124mLevel\u001b[39m\u001b[38;5;124m'\u001b[39m: level, \\\n\u001b[1;32m     36\u001b[0m               \u001b[38;5;124m'\u001b[39m\u001b[38;5;124mlink_list\u001b[39m\u001b[38;5;124m'\u001b[39m:link_list })\n\u001b[1;32m     38\u001b[0m \u001b[38;5;28mprint\u001b[39m(\u001b[38;5;124m'\u001b[39m\u001b[38;5;130;01m\\n\u001b[39;00m\u001b[38;5;124mFull name\u001b[39m\u001b[38;5;124m'\u001b[39m, full_name)\n",
      "\u001b[0;31mTypeError\u001b[0m: slice indices must be integers or None or have an __index__ method"
     ]
    }
   ],
   "source": [
    "#create recursion\n",
    "#link='/wiki/%D0%9A%D0%B0%D1%82%D0%B5%D0%B3%D0%BE%D1%80%D1%96%D1%8F:%D0%A3%D0%BA%D1%80%D0%B0%D1%97%D0%BD%D1%81%D1%8C%D0%BA%D1%96_%D0%B4%D0%B8%D0%B7%D0%B0%D0%B9%D0%BD%D0%B5%D1%80%D0%B8'\n",
    "link='/wiki/%D0%9A%D0%B0%D1%82%D0%B5%D0%B3%D0%BE%D1%80%D1%96%D1%8F:%D0%92%D0%B8%D0%BD%D0%B0_%D0%B2_%D0%A3%D0%BA%D1%80%D0%B0%D1%97%D0%BD%D1%96'\n",
    "wiki_text='https://uk.wikipedia.org'\n",
    "#link='/wiki/%D0%9A%D0%B0%D1%82%D0%B5%D0%B3%D0%BE%D1%80%D1%96%D1%8F:%D0%9F%D1%96%D0%B4%D0%BF%D1%80%D0%B8%D1%94%D0%BC%D1%81%D1%82%D0%B2%D0%B0_%D0%9C%D0%B0%D0%BA%D1%96%D1%97%D0%B2%D0%BA%D0%B8'\n",
    "link_old=None\n",
    "list_persons=[]\n",
    "level=0\n",
    "link_list=[]\n",
    "level_list=[]\n",
    "old_level=0\n",
    "\n",
    "level=0\n",
    "\n",
    "def recursion_link(link, level):\n",
    "    html=wiki_text+link\n",
    "    html_open = urlopen(html)\n",
    "    bs1 = BeautifulSoup(html_open, 'html.parser')\n",
    "    full_name= bs1.find('h1', {'class': 'firstHeading mw-first-heading'}).text\n",
    "    \n",
    "    level+=1\n",
    "    level_list.append(level)\n",
    "    #print('We are here (link): ',html)\n",
    "    if len(level_list)>=2:\n",
    "        old_level=level_list[-2]\n",
    "        #print('pr velve: ', old_level) \n",
    "    else: old_level=0\n",
    "    if level-old_level<0:\n",
    "        link_list.pop()\n",
    "        print('we do drop', level-old_level)\n",
    "        \n",
    "    print('\\nWe are here', level, '(name): ', full_name) \n",
    "    link_list.append(unquote(html.encode('cp1251')))\n",
    "    link_lists = [{'link_list:': link_list[:i]}  for i in enumerate(list_persons, 1)]\n",
    "    list_persons.append({'Full name': full_name,'Link': html, 'Level': level, \\\n",
    "                  'link_list':link_list })\n",
    "\n",
    "    print('\\nFull name', full_name)\n",
    "    #print('\\nlink_list', link_list)\n",
    "    print('\\n list_person is: ' ,  list_persons)\n",
    "    try:\n",
    "        #diff.pop()\n",
    "        all_links = bs1.find('div', {'id': 'bodyContent'}).find('div', {'class': 'mw-category-generated'}).find_all('a')       \n",
    "        for link_herf in all_links:\n",
    "            link_new=link_herf['href']\n",
    "            #print ('Cuurent:  ', unquote(link.encode('cp1251')), '\\n') \n",
    "            recursion_link(link_new, level)\n",
    "\n",
    "\n",
    "\n",
    "    except AttributeError:\n",
    "        #print ('End')\n",
    "        link_list.pop()\n",
    "        #print('we drop finish element')\n",
    "        \n",
    "    \n",
    "\n",
    "\n",
    "    return list_persons   \n",
    "\n",
    "\n",
    "recursion_link(link, level)\n",
    "\n",
    "print('3 return: ', list_persons)"
   ]
  },
  {
   "cell_type": "code",
   "execution_count": 27,
   "id": "8a6c4d3c",
   "metadata": {},
   "outputs": [
    {
     "ename": "NameError",
     "evalue": "name 'list_person' is not defined",
     "output_type": "error",
     "traceback": [
      "\u001b[0;31m---------------------------------------------------------------------------\u001b[0m",
      "\u001b[0;31mNameError\u001b[0m                                 Traceback (most recent call last)",
      "Cell \u001b[0;32mIn[27], line 1\u001b[0m\n\u001b[0;32m----> 1\u001b[0m df_one_person\u001b[38;5;241m=\u001b[39mpd\u001b[38;5;241m.\u001b[39mDataFrame(\u001b[43mlist_person\u001b[49m)\n\u001b[1;32m      2\u001b[0m df_one_person\n",
      "\u001b[0;31mNameError\u001b[0m: name 'list_person' is not defined"
     ]
    }
   ],
   "source": [
    "df_one_person=pd.DataFrame(list_person)\n",
    "df_one_person\n",
    "\n"
   ]
  },
  {
   "cell_type": "code",
   "execution_count": 21,
   "id": "c3aa9acc",
   "metadata": {},
   "outputs": [
    {
     "data": {
      "text/plain": [
       "['https://uk.wikipedia.org/wiki/Категорія:Вина_в_Україні',\n",
       " 'https://uk.wikipedia.org/wiki/Категорія:Вина_Криму',\n",
       " 'https://uk.wikipedia.org/wiki/Категорія:Вина_Інституту_«Магарач»',\n",
       " 'https://uk.wikipedia.org/wiki/Бастардо_магарацький_(вино)',\n",
       " 'https://uk.wikipedia.org/wiki/Мадера_альмінська',\n",
       " 'https://uk.wikipedia.org/wiki/Рубіновий_Магарача_(вино)',\n",
       " 'https://uk.wikipedia.org/wiki/Сердолік_Тавріди',\n",
       " 'https://uk.wikipedia.org/wiki/Екім_Кара_(сорт_винограду)',\n",
       " 'https://uk.wikipedia.org/wiki/Енотека_Коктебеля',\n",
       " 'https://uk.wikipedia.org/wiki/Масандра',\n",
       " 'https://uk.wikipedia.org/wiki/Мускат_білий_Червоного_каменя',\n",
       " 'https://uk.wikipedia.org/wiki/Виноробство_в_Україні',\n",
       " 'https://uk.wikipedia.org/wiki/Виноробний_комбінат_«Масандра»',\n",
       " 'https://uk.wikipedia.org/wiki/Інкерманський_завод_марочних_вин',\n",
       " 'https://uk.wikipedia.org/wiki/Масандра',\n",
       " 'https://uk.wikipedia.org/wiki/Середнянські_винні_підвали',\n",
       " 'https://uk.wikipedia.org/wiki/Французький_бульвар_(торгова_марка)',\n",
       " 'https://uk.wikipedia.org/wiki/Шампанське']"
      ]
     },
     "execution_count": 21,
     "metadata": {},
     "output_type": "execute_result"
    }
   ],
   "source": [
    "df_one_person['link_list'].tolist()"
   ]
  },
  {
   "cell_type": "code",
   "execution_count": null,
   "id": "fd94a541",
   "metadata": {},
   "outputs": [],
   "source": []
  },
  {
   "cell_type": "code",
   "execution_count": 15,
   "id": "8e1a1b51",
   "metadata": {},
   "outputs": [
    {
     "name": "stdout",
     "output_type": "stream",
     "text": [
      "[{'number': 6, 'letter_list:': ['a']}, {'number': 7, 'letter_list:': ['a', 'b']}]\n",
      "[{'list_persons': 5, 'link_list:': ['a']}, {'list_persons': 6, 'link_list:': ['a', 'b']}, {'list_persons': 7, 'link_list:': ['a', 'b', 'c']}]\n"
     ]
    }
   ],
   "source": [
    "list_link_list = ['a','b','c']\n",
    "array_list_persons= [5,6,7]\n",
    "\n",
    "main_list=[]\n",
    "\n",
    "for idx,x in enumerate(array_):\n",
    "    \n",
    "    len_list=len(list_)\n",
    "    for i in range(1,len_list+1):\n",
    "        dict_={'number': x, 'letter_list:': list_[0:i]}\n",
    "        if idx==i:\n",
    "            main_list.append(dict_)\n",
    "\n",
    "print(main_list)\n",
    "d = [{'list_persons': v, 'link_list:': list_link_list[:i]} \n",
    "     for i, v in enumerate(array_list_persons, 1)]\n",
    "print(d)\n"
   ]
  },
  {
   "cell_type": "code",
   "execution_count": null,
   "id": "c73feda7",
   "metadata": {},
   "outputs": [],
   "source": []
  }
 ],
 "metadata": {
  "kernelspec": {
   "display_name": "Python 3 (ipykernel)",
   "language": "python",
   "name": "python3"
  },
  "language_info": {
   "codemirror_mode": {
    "name": "ipython",
    "version": 3
   },
   "file_extension": ".py",
   "mimetype": "text/x-python",
   "name": "python",
   "nbconvert_exporter": "python",
   "pygments_lexer": "ipython3",
   "version": "3.10.9"
  }
 },
 "nbformat": 4,
 "nbformat_minor": 5
}
